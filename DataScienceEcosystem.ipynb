{
 "cells": [
  {
   "cell_type": "markdown",
   "id": "07b6033d-ea9d-4ac3-81a0-139662f39814",
   "metadata": {},
   "source": [
    "## Author\n",
    "Victor Lopedote"
   ]
  },
  {
   "cell_type": "markdown",
   "id": "c73ed502-5a79-47b0-ace2-194f32cf40f2",
   "metadata": {},
   "source": [
    "# Data Science Tools and Ecosystem"
   ]
  },
  {
   "cell_type": "markdown",
   "id": "455b5bd5-f395-4015-939e-3ec74ea8e124",
   "metadata": {},
   "source": [
    "In this notebook, Data Science Tools and Ecosystem are summarized."
   ]
  },
  {
   "cell_type": "markdown",
   "id": "ecfef756-68ad-4eef-ae24-2bdef0267fb2",
   "metadata": {
    "editable": true,
    "slideshow": {
     "slide_type": ""
    },
    "tags": []
   },
   "source": [
    "**Objectives**:\n",
    "- List popular languages for Data Science\n",
    "- Learn to create a Jupyter Notebook\n",
    "- Learn to insert code and markdown cells"
   ]
  },
  {
   "cell_type": "markdown",
   "id": "e900764c-8957-4eac-b294-9afced9de867",
   "metadata": {},
   "source": [
    "Some of the popular languages that Data Scientists use are:\n",
    "1. Python\n",
    "2. Julia\n",
    "3. R"
   ]
  },
  {
   "cell_type": "markdown",
   "id": "d9bfeaed-1b39-4509-a7d9-5086082f741a",
   "metadata": {},
   "source": [
    "Some of the popular languages that Data Scientists use are:\n",
    "1. Pandas\n",
    "2. NumPy\n",
    "3. Matplotlib"
   ]
  },
  {
   "cell_type": "markdown",
   "id": "440ce6ec-8bf5-40f2-99b1-3a22b4ce38e1",
   "metadata": {},
   "source": [
    "| Data Science Tools|\n",
    "|-----------------:|\n",
    "| Jupyter Notebook|\n",
    "| R Studio|\n",
    "| Apache Spark|\n"
   ]
  },
  {
   "cell_type": "markdown",
   "id": "42e63cdb-5c73-4d68-ae67-db6c7da0c57d",
   "metadata": {},
   "source": [
    "### Below are a few examples of evaluating arithmetic expressions in Python"
   ]
  },
  {
   "cell_type": "code",
   "execution_count": 1,
   "id": "38bf14f8-8903-4826-ba9e-5538660389d7",
   "metadata": {},
   "outputs": [
    {
     "data": {
      "text/plain": [
       "17"
      ]
     },
     "execution_count": 1,
     "metadata": {},
     "output_type": "execute_result"
    }
   ],
   "source": [
    "#This a simple arithmetic expression to mutiply then add integers\n",
    "(3*4)+5"
   ]
  },
  {
   "cell_type": "code",
   "execution_count": 2,
   "id": "813531be-a3ae-4745-ab8e-1ed5a9ddb758",
   "metadata": {},
   "outputs": [
    {
     "data": {
      "text/plain": [
       "3.3333333333333335"
      ]
     },
     "execution_count": 2,
     "metadata": {},
     "output_type": "execute_result"
    }
   ],
   "source": [
    "#This will convert 200 minutes to hours by diving by 60\n",
    "200/60"
   ]
  }
 ],
 "metadata": {
  "kernelspec": {
   "display_name": "Python 3 (ipykernel)",
   "language": "python",
   "name": "python3"
  },
  "language_info": {
   "codemirror_mode": {
    "name": "ipython",
    "version": 3
   },
   "file_extension": ".py",
   "mimetype": "text/x-python",
   "name": "python",
   "nbconvert_exporter": "python",
   "pygments_lexer": "ipython3",
   "version": "3.12.8"
  }
 },
 "nbformat": 4,
 "nbformat_minor": 5
}
